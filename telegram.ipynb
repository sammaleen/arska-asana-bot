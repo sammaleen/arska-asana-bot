{
 "cells": [
  {
   "cell_type": "code",
   "execution_count": 26,
   "id": "bd4eddcb-550f-44f1-af0c-85f27ab47e34",
   "metadata": {
    "tags": []
   },
   "outputs": [],
   "source": [
    "import os\n",
    "from dotenv import load_dotenv\n",
    "import requests\n",
    "import json\n",
    "import pandas as pd\n",
    "\n",
    "import uuid\n",
    "import urllib.parse\n",
    "\n",
    "from telegram import Update\n",
    "from telegram.ext import Application, CommandHandler, CallbackContext\n",
    "\n",
    "load_dotenv()\n",
    "\n",
    "bot_token = os.getenv('BOT_TOKEN')\n",
    "client_id = os.getenv('CLIENT_ID')\n",
    "asana_token = os.getenv('ASANA_TOKEN')\n",
    "\n",
    "redirect_url = \"http://localhost:5000/callback\"\n",
    "auth_url = \"https://app.asana.com/-/oauth_authorize\""
   ]
  },
  {
   "cell_type": "markdown",
   "id": "f7d51e21-9041-4b9b-995a-cd0897cee2c9",
   "metadata": {
    "tags": []
   },
   "source": [
    "## OAuth"
   ]
  },
  {
   "cell_type": "code",
   "execution_count": null,
   "id": "b6094ad3-231e-4c10-afdb-8e8e55f3ad62",
   "metadata": {},
   "outputs": [],
   "source": [
    "#### oauth_link"
   ]
  },
  {
   "cell_type": "code",
   "execution_count": 25,
   "id": "db20d32b-0344-4f7c-bc27-11741653e5c8",
   "metadata": {
    "tags": []
   },
   "outputs": [
    {
     "data": {
      "text/plain": [
       "('https://app.asana.com/-/oauth_authorize?response_type=code&client_id=1207292578954395&redirect_uri=http%3A%2F%2Flocalhost%3A5000%2Fcallback&state=e1e31d92-2501-4a77-b523-17e64e4e191a',\n",
       " 'e1e31d92-2501-4a77-b523-17e64e4e191a')"
      ]
     },
     "execution_count": 25,
     "metadata": {},
     "output_type": "execute_result"
    }
   ],
   "source": [
    "# generating dynamically oauth_link\n",
    "\n",
    "def gen_oauth_link():\n",
    "    \n",
    "    state = str(uuid.uuid4())\n",
    "    \n",
    "    payload = {\n",
    "        \"response_type\": \"code\",\n",
    "        \"client_id\": client_id,\n",
    "        \"redirect_uri\": redirect_url,\n",
    "        \"state\": state,\n",
    "    }\n",
    "    \n",
    "    oauth_url = f\"{auth_url}?{urllib.parse.urlencode(payload)}\"\n",
    "    \n",
    "    return oauth_url, state\n",
    "\n",
    "oauth_link, state = gen_oauth_link()\n",
    "oauth_link, state"
   ]
  },
  {
   "cell_type": "code",
   "execution_count": null,
   "id": "66413380-dac8-48af-963f-6cae5a660569",
   "metadata": {},
   "outputs": [],
   "source": [
    "#### arska bot /connect"
   ]
  },
  {
   "cell_type": "code",
   "execution_count": null,
   "id": "4372b8e3-ac0b-40ca-a4f0-83938eda252d",
   "metadata": {},
   "outputs": [],
   "source": [
    "# /connect \n",
    "async def connect_command(update: Update, context: CallbackContext):\n",
    "    \n",
    "    oauth_link, state = gen_oauth_link() # generate oauth link\n",
    "    context.chat_data[\"oauth_state\"] = state # store the state for validation\n",
    "    \n",
    "    # send the link to the user\n",
    "    await update.message.reply_text(\n",
    "        f\"Connect to Asana:\\n\\n{oauth_link}\"\n",
    "    )\n",
    "\n",
    "#\n",
    "def main():\n",
    "    # create app instance \n",
    "    application = Application.builder().token(bot_token).build()\n",
    "    \n",
    "    # add /connect command handler\n",
    "    application.add_handler(CommandHandler(\"connect\", connect_command))\n",
    "    \n",
    "    application.run_polling()\n",
    "\n",
    "if __name__ == \"__main__\":\n",
    "    main()"
   ]
  },
  {
   "cell_type": "code",
   "execution_count": null,
   "id": "1366226c-899d-4fda-8553-a18c91f5a822",
   "metadata": {},
   "outputs": [],
   "source": []
  },
  {
   "cell_type": "code",
   "execution_count": null,
   "id": "cd09bd66-fd2c-48b1-8c6e-52cb834a4068",
   "metadata": {},
   "outputs": [],
   "source": []
  }
 ],
 "metadata": {
  "kernelspec": {
   "display_name": "Python 3 (ipykernel)",
   "language": "python",
   "name": "python3"
  },
  "language_info": {
   "codemirror_mode": {
    "name": "ipython",
    "version": 3
   },
   "file_extension": ".py",
   "mimetype": "text/x-python",
   "name": "python",
   "nbconvert_exporter": "python",
   "pygments_lexer": "ipython3",
   "version": "3.11.5"
  }
 },
 "nbformat": 4,
 "nbformat_minor": 5
}
